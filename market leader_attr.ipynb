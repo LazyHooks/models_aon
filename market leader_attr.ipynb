{
  "nbformat": 4,
  "nbformat_minor": 0,
  "metadata": {
    "colab": {
      "name": "BPO_attr.ipynb",
      "provenance": [],
      "collapsed_sections": [],
      "authorship_tag": "ABX9TyMZvn6ljI1nqUdMrPJEEROv",
      "include_colab_link": true
    },
    "kernelspec": {
      "name": "python3",
      "display_name": "Python 3"
    },
    "language_info": {
      "name": "python"
    }
  },
  "cells": [
    {
      "cell_type": "markdown",
      "metadata": {
        "id": "view-in-github",
        "colab_type": "text"
      },
      "source": [
        "<a href=\"https://colab.research.google.com/github/LazyHooks/models_aon/blob/main/market%20leader_attr.ipynb\" target=\"_parent\"><img src=\"https://colab.research.google.com/assets/colab-badge.svg\" alt=\"Open In Colab\"/></a>"
      ]
    },
    {
      "cell_type": "markdown",
      "source": [
        "imports"
      ],
      "metadata": {
        "id": "W0eOMjYCx88m"
      }
    },
    {
      "cell_type": "code",
      "execution_count": null,
      "metadata": {
        "id": "eq2iPOakxtfc"
      },
      "outputs": [],
      "source": [
        "\n",
        "from numpy import loadtxt\n",
        "import pandas as pd\n",
        "from xgboost import XGBClassifier\n",
        "from sklearn.model_selection import train_test_split\n",
        "from sklearn.metrics import accuracy_score"
      ]
    },
    {
      "cell_type": "code",
      "source": [
        "pip install shap"
      ],
      "metadata": {
        "colab": {
          "base_uri": "https://localhost:8080/"
        },
        "id": "xeJXOy-Gyzsr",
        "outputId": "f704a497-e770-461d-fddb-ec0a1aed971f"
      },
      "execution_count": null,
      "outputs": [
        {
          "output_type": "stream",
          "name": "stdout",
          "text": [
            "Looking in indexes: https://pypi.org/simple, https://us-python.pkg.dev/colab-wheels/public/simple/\n",
            "Requirement already satisfied: shap in /usr/local/lib/python3.7/dist-packages (0.41.0)\n",
            "Requirement already satisfied: slicer==0.0.7 in /usr/local/lib/python3.7/dist-packages (from shap) (0.0.7)\n",
            "Requirement already satisfied: scipy in /usr/local/lib/python3.7/dist-packages (from shap) (1.4.1)\n",
            "Requirement already satisfied: cloudpickle in /usr/local/lib/python3.7/dist-packages (from shap) (1.3.0)\n",
            "Requirement already satisfied: numba in /usr/local/lib/python3.7/dist-packages (from shap) (0.51.2)\n",
            "Requirement already satisfied: packaging>20.9 in /usr/local/lib/python3.7/dist-packages (from shap) (21.3)\n",
            "Requirement already satisfied: pandas in /usr/local/lib/python3.7/dist-packages (from shap) (1.3.5)\n",
            "Requirement already satisfied: scikit-learn in /usr/local/lib/python3.7/dist-packages (from shap) (1.0.2)\n",
            "Requirement already satisfied: numpy in /usr/local/lib/python3.7/dist-packages (from shap) (1.21.6)\n",
            "Requirement already satisfied: tqdm>4.25.0 in /usr/local/lib/python3.7/dist-packages (from shap) (4.64.0)\n",
            "Requirement already satisfied: pyparsing!=3.0.5,>=2.0.2 in /usr/local/lib/python3.7/dist-packages (from packaging>20.9->shap) (3.0.9)\n",
            "Requirement already satisfied: setuptools in /usr/local/lib/python3.7/dist-packages (from numba->shap) (57.4.0)\n",
            "Requirement already satisfied: llvmlite<0.35,>=0.34.0.dev0 in /usr/local/lib/python3.7/dist-packages (from numba->shap) (0.34.0)\n",
            "Requirement already satisfied: pytz>=2017.3 in /usr/local/lib/python3.7/dist-packages (from pandas->shap) (2022.1)\n",
            "Requirement already satisfied: python-dateutil>=2.7.3 in /usr/local/lib/python3.7/dist-packages (from pandas->shap) (2.8.2)\n",
            "Requirement already satisfied: six>=1.5 in /usr/local/lib/python3.7/dist-packages (from python-dateutil>=2.7.3->pandas->shap) (1.15.0)\n",
            "Requirement already satisfied: threadpoolctl>=2.0.0 in /usr/local/lib/python3.7/dist-packages (from scikit-learn->shap) (3.1.0)\n",
            "Requirement already satisfied: joblib>=0.11 in /usr/local/lib/python3.7/dist-packages (from scikit-learn->shap) (1.1.0)\n"
          ]
        }
      ]
    },
    {
      "cell_type": "markdown",
      "source": [
        "load data"
      ],
      "metadata": {
        "id": "lAsyArPAx-h1"
      }
    },
    {
      "cell_type": "code",
      "source": [
        "dataset = pd.read_csv('Market Leader_attr.csv')"
      ],
      "metadata": {
        "id": "iaoQtN77yB0H"
      },
      "execution_count": null,
      "outputs": []
    },
    {
      "cell_type": "markdown",
      "source": [
        "split"
      ],
      "metadata": {
        "id": "ZUrp5wITyGIA"
      }
    },
    {
      "cell_type": "code",
      "source": [
        "X = dataset.iloc[:, 1:-1].values\n",
        "Y = dataset.iloc[:, -1].values"
      ],
      "metadata": {
        "id": "y30lbRf8zPQD"
      },
      "execution_count": null,
      "outputs": []
    },
    {
      "cell_type": "markdown",
      "source": [
        "split"
      ],
      "metadata": {
        "id": "_oFo3nDczUv5"
      }
    },
    {
      "cell_type": "code",
      "source": [
        "seed = 7\n",
        "test_size = 0.33\n",
        "X_train, X_test, y_train, y_test = train_test_split(X, Y, test_size=test_size, random_state=seed)"
      ],
      "metadata": {
        "id": "SkvzlTQSzUdO"
      },
      "execution_count": null,
      "outputs": []
    },
    {
      "cell_type": "markdown",
      "source": [
        "fit"
      ],
      "metadata": {
        "id": "tB88-h2tzifx"
      }
    },
    {
      "cell_type": "code",
      "source": [
        "model = XGBClassifier()\n",
        "model.fit(X_train, y_train)"
      ],
      "metadata": {
        "colab": {
          "base_uri": "https://localhost:8080/"
        },
        "id": "KtqDb2tEzjFh",
        "outputId": "612df536-bec8-40e1-f722-5b9bf775bd3f"
      },
      "execution_count": null,
      "outputs": [
        {
          "output_type": "execute_result",
          "data": {
            "text/plain": [
              "XGBClassifier()"
            ]
          },
          "metadata": {},
          "execution_count": 42
        }
      ]
    },
    {
      "cell_type": "markdown",
      "source": [
        "print the model"
      ],
      "metadata": {
        "id": "VncjEISHzlcv"
      }
    },
    {
      "cell_type": "code",
      "source": [
        "print(model.feature_importances_)"
      ],
      "metadata": {
        "colab": {
          "base_uri": "https://localhost:8080/"
        },
        "id": "6wFCL9_lzhQi",
        "outputId": "bab063c4-ef60-47b3-e0c5-6359a9e8ebe4"
      },
      "execution_count": null,
      "outputs": [
        {
          "output_type": "stream",
          "name": "stdout",
          "text": [
            "[0.12110345 0.22758678 0.         0.10095297 0.17205027 0.09274498\n",
            " 0.28556156]\n"
          ]
        }
      ]
    },
    {
      "cell_type": "markdown",
      "source": [
        "feature importance & weights"
      ],
      "metadata": {
        "id": "39LBr8WtAPlt"
      }
    },
    {
      "cell_type": "code",
      "source": [
        "from matplotlib import pyplot\n",
        "from xgboost import plot_importance\n",
        "pyplot.bar(range(len(model.feature_importances_)), model.feature_importances_)\n",
        "pyplot.show()\n",
        "import shap\n",
        "explainer = shap.Explainer(model)\n",
        "shap_values = explainer(X)\n",
        "shap.plots.beeswarm(shap_values)\n",
        "#0-Pay Positioning Score\n",
        "#1-Pay Range Score\t\n",
        "#2-Internal focus\n",
        "#3-Balanced\t\n",
        "#4-External\t\n",
        "#5-Pay Mix Score\t\n",
        "#6-Pay Differentiation Score\t\n",
        "\n"
      ],
      "metadata": {
        "colab": {
          "base_uri": "https://localhost:8080/",
          "height": 551
        },
        "id": "3jFPKlRaARYV",
        "outputId": "fd7f3399-7e9f-4a47-880f-5288fbd16875"
      },
      "execution_count": null,
      "outputs": [
        {
          "output_type": "display_data",
          "data": {
            "text/plain": [
              "<Figure size 432x288 with 1 Axes>"
            ],
            "image/png": "[encoded data removed]"
          },
          "metadata": {
            "needs_background": "light"
          }
        },
        {
          "output_type": "display_data",
          "data": {
            "text/plain": [
              "<Figure size 576x309.6 with 2 Axes>"
            ],
            "image/png": "[encoded data removed]"
          },
          "metadata": {
            "needs_background": "light"
          }
        }
      ]
    },
    {
      "cell_type": "markdown",
      "source": [
        "predict"
      ],
      "metadata": {
        "id": "oLhsBpiOzwzr"
      }
    },
    {
      "cell_type": "code",
      "source": [
        "y_pred = model.predict(X_test)\n",
        "predictions = [round(value) for value in y_pred]"
      ],
      "metadata": {
        "id": "uhcvJOZnzuE_"
      },
      "execution_count": null,
      "outputs": []
    },
    {
      "cell_type": "markdown",
      "source": [
        "evaluate predictions"
      ],
      "metadata": {
        "id": "0j8dvakyz4-r"
      }
    },
    {
      "cell_type": "code",
      "source": [
        "accuracy = accuracy_score(y_test, predictions)\n",
        "print(\"Accuracy: %.2f%%\" % (accuracy * 100.0))"
      ],
      "metadata": {
        "colab": {
          "base_uri": "https://localhost:8080/"
        },
        "id": "FEtzrdRwz3QB",
        "outputId": "7a634136-1537-4934-ed90-f2a29c2f3591"
      },
      "execution_count": null,
      "outputs": [
        {
          "output_type": "stream",
          "name": "stdout",
          "text": [
            "Accuracy: 93.33%\n"
          ]
        }
      ]
    },
    {
      "cell_type": "markdown",
      "source": [
        ""
      ],
      "metadata": {
        "id": "CvEI4wHy1mmq"
      }
    },
    {
      "cell_type": "code",
      "source": [
        ""
      ],
      "metadata": {
        "id": "YMbYLMbn1oWH"
      },
      "execution_count": null,
      "outputs": []
    },
    {
      "cell_type": "markdown",
      "source": [
        "predict 1"
      ],
      "metadata": {
        "id": "uJ31r67b105m"
      }
    },
    {
      "cell_type": "code",
      "source": [
        "#singlepred = model.predict([[]])\n",
        "#singleprediction = [round(value) for value in y_pred]\n",
        "#print(singleprediction)"
      ],
      "metadata": {
        "id": "h_wkvknp12Eu"
      },
      "execution_count": null,
      "outputs": []
    },
    {
      "cell_type": "markdown",
      "source": [
        "visualise single"
      ],
      "metadata": {
        "id": "-NzeNBibV5sz"
      }
    },
    {
      "cell_type": "code",
      "source": [
        "# visualize the first prediction's explanation\n",
        "shap.plots.waterfall(shap_values[2])"
      ],
      "metadata": {
        "colab": {
          "base_uri": "https://localhost:8080/",
          "height": 362
        },
        "id": "ZZ1nAiNhV5E1",
        "outputId": "b176b980-3700-475d-a806-2195c0dba5ff"
      },
      "execution_count": null,
      "outputs": [
        {
          "output_type": "display_data",
          "data": {
            "text/plain": [
              "<Figure size 576x360 with 3 Axes>"
            ],
            "image/png": "[encoded data removed]"
          },
          "metadata": {}
        }
      ]
    }
  ]
}